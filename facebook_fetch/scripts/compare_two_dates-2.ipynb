{
 "cells": [
  {
   "cell_type": "code",
   "execution_count": null,
   "metadata": {},
   "outputs": [],
   "source": [
    "\n",
    "import json\n",
    "import sys\n",
    "import collections\n",
    "import datetime\n",
    "import pathlib\n",
    "\n",
    "import dateutil.parser\n",
    "from matplotlib import pyplot as plt\n",
    "\n",
    "from facebook_fetch import fetch"
   ]
  },
  {
   "cell_type": "code",
   "execution_count": 2,
   "metadata": {},
   "outputs": [
    {
     "data": {
      "text/plain": [
       "(96612, 100061)"
      ]
     },
     "execution_count": 2,
     "metadata": {},
     "output_type": "execute_result"
    }
   ],
   "source": [
    "filename_old = '/home/michel/projects/disinfo/political-ads-scraper/data/facebook/2020-11-13/facebook-ads-archive_BE_2020-11-13_17-24-27.json'\n",
    "dirname_new = '/home/michel/projects/disinfo/political-ads-scraper/data/facebook/API/BE'\n",
    "\n",
    "with open(filename_old, 'r') as f:\n",
    "    ads_old = json.load(f)\n",
    "ads_new = []\n",
    "for batch_filename in pathlib.Path(dirname_new).iterdir():\n",
    "    with open(batch_filename, 'r') as f:\n",
    "        ads_new += json.load(f)\n",
    "\n",
    "len(ads_old), len(ads_new)"
   ]
  },
  {
   "cell_type": "code",
   "execution_count": 3,
   "metadata": {},
   "outputs": [
    {
     "name": "stdout",
     "output_type": "stream",
     "text": [
      "Comparing 96612 old ads and 100061 new ads.\n"
     ]
    }
   ],
   "source": [
    "print('Comparing {} old ads and {} new ads.'.format(len(ads_old), len(ads_new)))"
   ]
  },
  {
   "cell_type": "code",
   "execution_count": 4,
   "metadata": {
    "scrolled": true
   },
   "outputs": [
    {
     "name": "stdout",
     "output_type": "stream",
     "text": [
      "100061 ads have the field \"id\" on a total of 100061\n",
      "100061 ads have the field \"ad_creation_time\" on a total of 100061\n",
      "97844 ads have the field \"ad_creative_body\" on a total of 100061\n",
      "60261 ads have the field \"ad_creative_link_caption\" on a total of 100061\n",
      "45375 ads have the field \"ad_creative_link_description\" on a total of 100061\n",
      "69306 ads have the field \"ad_creative_link_title\" on a total of 100061\n",
      "99960 ads have the field \"ad_delivery_start_time\" on a total of 100061\n",
      "98462 ads have the field \"ad_delivery_stop_time\" on a total of 100061\n",
      "100061 ads have the field \"ad_snapshot_url\" on a total of 100061\n",
      "100061 ads have the field \"currency\" on a total of 100061\n",
      "100052 ads have the field \"demographic_distribution\" on a total of 100061\n",
      "64317 ads have the field \"funding_entity\" on a total of 100061\n",
      "100061 ads have the field \"impressions\" on a total of 100061\n",
      "100061 ads have the field \"page_id\" on a total of 100061\n",
      "100061 ads have the field \"page_name\" on a total of 100061\n",
      "42725 ads have the field \"potential_reach\" on a total of 100061\n",
      "96901 ads have the field \"publisher_platforms\" on a total of 100061\n",
      "100052 ads have the field \"region_distribution\" on a total of 100061\n",
      "100061 ads have the field \"spend\" on a total of 100061\n",
      "\n"
     ]
    }
   ],
   "source": [
    "\n",
    "for field in fetch.FIELDS:\n",
    "    print('{} ads have the field \"{}\" on a total of {}'.format(\n",
    "        sum([field in ad for ad in ads_new]),\n",
    "        field,\n",
    "        len(ads_new)\n",
    "    ))\n",
    "print()\n"
   ]
  },
  {
   "cell_type": "code",
   "execution_count": 5,
   "metadata": {},
   "outputs": [
    {
     "name": "stdout",
     "output_type": "stream",
     "text": [
      "4304 ads have been added.\n",
      "855 ads have been removed.\n"
     ]
    }
   ],
   "source": [
    "# Index\n",
    "\n",
    "def to_dict(ads):\n",
    "    ads_by_id = {}\n",
    "    for ad in ads:\n",
    "        ad_id = fetch.get_ad_id(ad)\n",
    "        assert ad_id not in ads_by_id, ad\n",
    "        ads_by_id[ad_id] = ad\n",
    "    return ads_by_id\n",
    "\n",
    "ads_old_by_id = to_dict(ads_old)\n",
    "ads_new_by_id = to_dict(ads_new)\n",
    "\n",
    "\n",
    "# Find removed ads\n",
    "\n",
    "old_ids = set(ads_old_by_id.keys())\n",
    "new_ids = set(ads_new_by_id.keys())\n",
    "\n",
    "new_only_ids = new_ids - old_ids\n",
    "old_only_ids = old_ids - new_ids\n",
    "both_ids = old_ids & new_ids\n",
    "\n",
    "assert len(new_only_ids) + len(both_ids) == len(new_ids)\n",
    "assert len(old_only_ids) + len(both_ids) == len(old_ids)\n",
    "\n",
    "print('{} ads have been added.'.format(len(new_only_ids)))\n",
    "print('{} ads have been removed.'.format(len(old_only_ids)))"
   ]
  },
  {
   "cell_type": "code",
   "execution_count": null,
   "metadata": {},
   "outputs": [],
   "source": []
  }
 ],
 "metadata": {
  "kernelspec": {
   "display_name": "Python 3",
   "language": "python",
   "name": "python3"
  },
  "language_info": {
   "codemirror_mode": {
    "name": "ipython",
    "version": 3
   },
   "file_extension": ".py",
   "mimetype": "text/x-python",
   "name": "python",
   "nbconvert_exporter": "python",
   "pygments_lexer": "ipython3",
   "version": "3.6.9"
  }
 },
 "nbformat": 4,
 "nbformat_minor": 2
}
